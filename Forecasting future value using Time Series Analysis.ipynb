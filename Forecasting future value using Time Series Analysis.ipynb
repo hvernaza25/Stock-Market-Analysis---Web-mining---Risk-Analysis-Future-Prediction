{
 "cells": [
  {
   "cell_type": "markdown",
   "metadata": {},
   "source": [
    "**Forecasting future value of APPLE Stock Using Time Series Analysis - ARIMA**"
   ]
  },
  {
   "cell_type": "code",
   "execution_count": 29,
   "metadata": {
    "collapsed": false
   },
   "outputs": [],
   "source": [
    "import pandas as pd\n",
    "import numpy as np\n",
    "import matplotlib.pyplot as plt\n",
    "from pandas.tools.plotting import autocorrelation_plot\n",
    "from statsmodels.graphics.tsaplots import plot_pacf\n",
    "from statsmodels.tsa.arima_model import ARIMA, ARMAResults\n",
    "import datetime\n",
    "import sys\n",
    "import seaborn as sns\n",
    "import statsmodels\n",
    "import statsmodels.stats.diagnostic as diag\n",
    "from statsmodels.tsa.stattools import adfuller\n",
    "from arch import arch_model\n",
    "from scipy.stats.mstats import normaltest\n",
    "from matplotlib.pyplot import acorr\n",
    "%matplotlib inline\n",
    "import quandl"
   ]
  },
  {
   "cell_type": "markdown",
   "metadata": {},
   "source": [
    "Lets collect data of APPLE Stock for 8 years to forecast future value of the stock using time series analysis. "
   ]
  },
  {
   "cell_type": "code",
   "execution_count": 33,
   "metadata": {
    "collapsed": false
   },
   "outputs": [
    {
     "data": {
      "text/html": [
       "<div>\n",
       "<table border=\"1\" class=\"dataframe\">\n",
       "  <thead>\n",
       "    <tr style=\"text-align: right;\">\n",
       "      <th></th>\n",
       "      <th>Open</th>\n",
       "      <th>High</th>\n",
       "      <th>Low</th>\n",
       "      <th>Close</th>\n",
       "      <th>Volume</th>\n",
       "      <th>Adjusted Close</th>\n",
       "    </tr>\n",
       "    <tr>\n",
       "      <th>Date</th>\n",
       "      <th></th>\n",
       "      <th></th>\n",
       "      <th></th>\n",
       "      <th></th>\n",
       "      <th></th>\n",
       "      <th></th>\n",
       "    </tr>\n",
       "  </thead>\n",
       "  <tbody>\n",
       "    <tr>\n",
       "      <th>1980-12-12</th>\n",
       "      <td>28.750000</td>\n",
       "      <td>28.875000</td>\n",
       "      <td>28.750</td>\n",
       "      <td>28.750</td>\n",
       "      <td>117258400.0</td>\n",
       "      <td>0.423253</td>\n",
       "    </tr>\n",
       "    <tr>\n",
       "      <th>1980-12-15</th>\n",
       "      <td>27.375001</td>\n",
       "      <td>27.375001</td>\n",
       "      <td>27.250</td>\n",
       "      <td>27.250</td>\n",
       "      <td>43971200.0</td>\n",
       "      <td>0.401170</td>\n",
       "    </tr>\n",
       "    <tr>\n",
       "      <th>1980-12-16</th>\n",
       "      <td>25.375000</td>\n",
       "      <td>25.375000</td>\n",
       "      <td>25.250</td>\n",
       "      <td>25.250</td>\n",
       "      <td>26432000.0</td>\n",
       "      <td>0.371726</td>\n",
       "    </tr>\n",
       "    <tr>\n",
       "      <th>1980-12-17</th>\n",
       "      <td>25.875000</td>\n",
       "      <td>25.999999</td>\n",
       "      <td>25.875</td>\n",
       "      <td>25.875</td>\n",
       "      <td>21610400.0</td>\n",
       "      <td>0.380927</td>\n",
       "    </tr>\n",
       "    <tr>\n",
       "      <th>1980-12-18</th>\n",
       "      <td>26.625000</td>\n",
       "      <td>26.750000</td>\n",
       "      <td>26.625</td>\n",
       "      <td>26.625</td>\n",
       "      <td>18362400.0</td>\n",
       "      <td>0.391969</td>\n",
       "    </tr>\n",
       "  </tbody>\n",
       "</table>\n",
       "</div>"
      ],
      "text/plain": [
       "                 Open       High     Low   Close       Volume  Adjusted Close\n",
       "Date                                                                         \n",
       "1980-12-12  28.750000  28.875000  28.750  28.750  117258400.0        0.423253\n",
       "1980-12-15  27.375001  27.375001  27.250  27.250   43971200.0        0.401170\n",
       "1980-12-16  25.375000  25.375000  25.250  25.250   26432000.0        0.371726\n",
       "1980-12-17  25.875000  25.999999  25.875  25.875   21610400.0        0.380927\n",
       "1980-12-18  26.625000  26.750000  26.625  26.625   18362400.0        0.391969"
      ]
     },
     "execution_count": 33,
     "metadata": {},
     "output_type": "execute_result"
    }
   ],
   "source": [
    "APPLE = quandl.get(\"YAHOO/AAPL\")\n",
    "APPLE.to_csv('APPLE.csv')\n",
    "lastAPPLE = APPLE[-1:]\n",
    "APPLE = APPLE[:-1]\n",
    "APPLE.head()"
   ]
  },
  {
   "cell_type": "code",
   "execution_count": 35,
   "metadata": {
    "collapsed": false
   },
   "outputs": [],
   "source": [
    "# Lets take Log of the daily the closing value to ensures that level induced volatility does not interfere with the stationarity of series.\n",
    "\n",
    "APPLE['date']= APPLE.index\n",
    "APPLE['APPLE']= APPLE.Close\n",
    "APPLE['logAPPLE']= np.log(APPLE['APPLE'])\n",
    "APPLE['diflogAPPLE'] = APPLE['logAPPLE'] - APPLE['logAPPLE'].shift(periods=-1)\n",
    "APPLE = APPLE.dropna()"
   ]
  },
  {
   "cell_type": "code",
   "execution_count": 37,
   "metadata": {
    "collapsed": false
   },
   "outputs": [
    {
     "data": {
      "text/plain": [
       "<matplotlib.text.Text at 0x2709a5e3748>"
      ]
     },
     "execution_count": 37,
     "metadata": {},
     "output_type": "execute_result"
    },
    {
     "data": {
      "image/png": "[encoded data removed]",
      "text/plain": [
       "<matplotlib.figure.Figure at 0x27093ed8828>"
      ]
     },
     "metadata": {},
     "output_type": "display_data"
    }
   ],
   "source": [
    "# As we are interested in the day to day change of the stock prices, we take the difference of the closing values. This differencing is another way to get the time series to be stationary.\n",
    "\n",
    "fig, ax = plt.subplots(figsize=(12,8))\n",
    "\n",
    "plt.subplot(2, 1, 1)\n",
    "plt.plot(APPLE.date, APPLE.APPLE, label = \"Log of APPLE Closing Price\")\n",
    "plt.title(\"Level APPLE Closing Price\", size = 20,)\n",
    "plt.ylabel(\"Price in Dollars\", size = 10)\n",
    "\n",
    "plt.subplot(2, 1, 2)\n",
    "plt.plot(APPLE.date, APPLE.diflogAPPLE, label = '1st Diffrence of Log of APPLE', color = 'g')\n",
    "plt.title(\"Difference between Log of APPLE Closing Price\", size = 10,)\n",
    "plt.ylabel(\"Difference between APPLE Closing Price\", size = 10)\n",
    "plt.xlabel('Month', size = 10)"
   ]
  },
  {
   "cell_type": "markdown",
   "metadata": {},
   "source": [
    "For reliable forecasting, we need Stationarity series. Therefore performing Dickey-Fuller test to test whether the series is Stationary or not. The smaller the value of p, the more the series is stationary. "
   ]
  },
  {
   "cell_type": "code",
   "execution_count": 42,
   "metadata": {
    "collapsed": false
   },
   "outputs": [
    {
     "name": "stdout",
     "output_type": "stream",
     "text": [
      "Results of Dickey-Fuller Test:\n",
      "Test Statistic                  -47.918946\n",
      "p-value                           0.000000\n",
      "# Lags Used                       3.000000\n",
      "Number of Observations Used    9177.000000\n",
      "Critical Value (5%)              -2.861855\n",
      "Critical Value (1%)              -3.431063\n",
      "Critical Value (10%)             -2.566938\n",
      "dtype: float64\n"
     ]
    }
   ],
   "source": [
    "print ('Results of Dickey-Fuller Test:')\n",
    "dftest = adfuller(APPLE.diflogAPPLE, autolag='AIC')\n",
    "dfoutput = pd.Series(dftest[0:4], index=['Test Statistic','p-value','# Lags Used','Number of Observations Used'])\n",
    "for key,value in dftest[4].items():\n",
    "    dfoutput['Critical Value (%s)'%key] = value\n",
    "print (dfoutput)"
   ]
  },
  {
   "cell_type": "markdown",
   "metadata": {},
   "source": [
    "Let's implement Time series analysis model: ARIMA (Auto-Regressive-Integrated-Moving-Average). \n",
    "\n",
    "The ARIMA forecasting equation for a stationary time series is a linear (i.e., regression-type) equation in which the predictors consist of lags of the dependent variable and/or lags of the forecast errors.  That is:\n",
    "\n",
    "Predicted value of Y = a constant and/or a weighted sum of one or more recent values of Y and/or a weighted sum of one or more recent values of the errors."
   ]
  },
  {
   "cell_type": "code",
   "execution_count": 50,
   "metadata": {
    "collapsed": false,
    "scrolled": true
   },
   "outputs": [
    {
     "name": "stdout",
     "output_type": "stream",
     "text": [
      "(0, 1, 0) -34085.2599452\n",
      "(0, 1, 1) -34086.234222330095\n",
      "(0, 1, 2) -34086.590955836626\n",
      "(1, 1, 0) -34086.13435339517\n",
      "(1, 1, 1) -34084.91057838261\n",
      "(2, 1, 0) -34086.87964373149\n",
      "(2, 1, 1) -34085.87300912154\n",
      "Best Model is : (2, 1, 0)\n"
     ]
    }
   ],
   "source": [
    "ararray = (APPLE.logAPPLE.dropna().as_matrix())\n",
    "p=0\n",
    "q=0\n",
    "d=1\n",
    "pdq=[]\n",
    "aic=[]\n",
    "\n",
    "for p in range(3):\n",
    "    for q in range(3):\n",
    "        try:\n",
    "            model = ARIMA(ararray, (p,d,q)).fit()\n",
    "            x = model.aic\n",
    "            x1 = (p,d,q)\n",
    "            print (x1, x)\n",
    "            aic.append(x)\n",
    "            pdq.append(x1)\n",
    "        except:\n",
    "            pass\n",
    "            \n",
    "keys = pdq\n",
    "values = aic\n",
    "d = dict(zip(keys, values))\n",
    "minaic=min(d, key=d.get)\n",
    "\n",
    "for i in range(3):\n",
    "    p=minaic[0]\n",
    "    d=minaic[1]\n",
    "    q=minaic[2]\n",
    "print (\"Best Model is :\", (p,d,q))\n",
    "ARIMIAmod = ARIMA(ararray, (p,d,q)).fit()"
   ]
  },
  {
   "cell_type": "code",
   "execution_count": 58,
   "metadata": {
    "collapsed": false
   },
   "outputs": [
    {
     "name": "stdout",
     "output_type": "stream",
     "text": [
      "1 Steps Ahead Forecast Value is: [ 153.2581724]\n",
      "1 Steps Ahead 95 percent CI is: [ 142.33025315  165.02512212]\n",
      "April 26th 2016 Close (most recent): Date\n",
      "2017-05-12    156.100006\n",
      "Name: Close, dtype: float64 \n"
     ]
    }
   ],
   "source": [
    "numofsteps = 1\n",
    "stepahead = ARIMIAmod.forecast(numofsteps)[0]\n",
    "ferrors = ARIMIAmod.forecast(numofsteps)[2]\n",
    "ferrors\n",
    "print ('%s Steps Ahead Forecast Value is:' % numofsteps, np.exp(stepahead))\n",
    "print ('%s Steps Ahead 95 percent CI is:' % numofsteps, np.exp(ferrors[0]))\n",
    "print ('April 26th 2016 Close (most recent): %s ' % lastAPPLE.Close)"
   ]
  }
 ],
 "metadata": {
  "kernelspec": {
   "display_name": "Python [Root]",
   "language": "python",
   "name": "Python [Root]"
  },
  "language_info": {
   "codemirror_mode": {
    "name": "ipython",
    "version": 3
   },
   "file_extension": ".py",
   "mimetype": "text/x-python",
   "name": "python",
   "nbconvert_exporter": "python",
   "pygments_lexer": "ipython3",
   "version": "3.5.2"
  }
 },
 "nbformat": 4,
 "nbformat_minor": 0
}
